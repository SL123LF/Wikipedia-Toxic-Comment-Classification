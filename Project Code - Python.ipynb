{
 "cells": [
  {
   "cell_type": "code",
   "execution_count": 1,
   "metadata": {},
   "outputs": [],
   "source": [
    "# output all code in a chunk\n",
    "from IPython.core.interactiveshell import InteractiveShell\n",
    "InteractiveShell.ast_node_interactivity = \"all\""
   ]
  },
  {
   "cell_type": "code",
   "execution_count": 44,
   "metadata": {
    "_cell_guid": "b1076dfc-b9ad-4769-8c92-a6c4dae69d19",
    "_uuid": "8f2839f25d086af736a60e9eeb907d3b93b6e0e5",
    "collapsed": true
   },
   "outputs": [
    {
     "name": "stdout",
     "output_type": "stream",
     "text": [
      "['.ipynb_checkpoints', 'Notebook v10.ipynb', 'Notebook v11.ipynb', 'Notebook v12 - Kaggle.ipynb', 'Notebook v12.ipynb', 'Notebook v13 with Visualizations.ipynb', 'Notebook v14.ipynb', 'Notebook v15.ipynb', 'Notebook v2.ipynb', 'Notebook v3.ipynb', 'Notebook v4.ipynb', 'Notebook v5.ipynb', 'Notebook v6.ipynb', 'Notebook v7.ipynb', 'Notebook v8.ipynb', 'Notebook v9.ipynb', 'OneLabel v1.ipynb', 'OneLabel v2.ipynb', 'sample_submission.csv', 'sample_submission_csv.zip', 'test.csv', 'test_csv.zip', 'train.csv', 'train_csv.zip', 'Untitled.ipynb']\n"
     ]
    }
   ],
   "source": [
    "# importing required libraries and functions\n",
    "\n",
    "# data exploration\n",
    "import numpy as np # linear algebra\n",
    "import pandas as pd # data processing, CSV file I/O (e.g. pd.read_csv)\n",
    "\n",
    "# visualizations\n",
    "import matplotlib.pyplot as plt\n",
    "import matplotlib.gridspec as gridspec \n",
    "import seaborn as sns\n",
    "import string\n",
    "\n",
    "# text mining\n",
    "import re # regular expression\n",
    "from nltk import word_tokenize, PorterStemmer # natural language toolkit\n",
    "from nltk.corpus import stopwords\n",
    "from sklearn.feature_extraction.text import CountVectorizer, TfidfTransformer\n",
    "## from sklearn.decomposition import TruncatedSVD\n",
    "\n",
    "# modeling building\n",
    "from sklearn.multiclass import OneVsRestClassifier\n",
    "from sklearn.model_selection import train_test_split, GridSearchCV\n",
    "from sklearn.naive_bayes import MultinomialNB, BernoulliNB\n",
    "from sklearn.linear_model import LogisticRegression\n",
    "from sklearn.svm import SVC\n",
    "from sklearn import metrics\n",
    "\n",
    "# download nltk packages\n",
    "# nltk.download()\n",
    "\n",
    "# working directory\n",
    "import os\n",
    "print(os.listdir(\"C:\\\\Users\\\\sonuc\\\\Desktop\\\\DS Track\\\\Compeitions\\\\Toxic Text Classification\"))"
   ]
  },
  {
   "cell_type": "code",
   "execution_count": 3,
   "metadata": {
    "_cell_guid": "79c7e3d0-c299-4dcb-8224-4455121ee9b0",
    "_uuid": "d629ff2d2480ee46fbb7e2d37f6b5fab8052498a",
    "collapsed": true
   },
   "outputs": [],
   "source": [
    "# reading data\n",
    "train = pd.read_csv(\"../Toxic Text Classification/train.csv\", nrows = 10000)\n",
    "test = pd.read_csv(\"../Toxic Text Classification/test.csv\", nrows = 10000)"
   ]
  },
  {
   "cell_type": "code",
   "execution_count": 4,
   "metadata": {},
   "outputs": [
    {
     "data": {
      "text/plain": [
       "8970"
      ]
     },
     "execution_count": 4,
     "metadata": {},
     "output_type": "execute_result"
    },
    {
     "name": "stdout",
     "output_type": "stream",
     "text": [
      "Total comments =  10000\n",
      "Total clean comments =  8970\n",
      "Total toxic tags = 2210\n"
     ]
    }
   ],
   "source": [
    "# data exploration - label counts\n",
    "x=train.iloc[:,2:].sum()\n",
    "#marking comments without any tags as \"clean\"\n",
    "rowsums=train.iloc[:,2:].sum(axis=1)\n",
    "train['clean']=(rowsums==0)\n",
    "#count number of clean entries\n",
    "train['clean'].sum()\n",
    "print(\"Total comments = \",len(train))\n",
    "print(\"Total clean comments = \",train['clean'].sum())\n",
    "print(\"Total toxic tags =\",x.sum())"
   ]
  },
  {
   "cell_type": "markdown",
   "metadata": {},
   "source": [
    "Total comments =  10000\n",
    "\n",
    "Total clean comments =  8970\n",
    "\n",
    "Total toxic tags = 2210"
   ]
  },
  {
   "cell_type": "code",
   "execution_count": 5,
   "metadata": {},
   "outputs": [
    {
     "data": {
      "text/plain": [
       "<matplotlib.figure.Figure at 0x163362084e0>"
      ]
     },
     "execution_count": 5,
     "metadata": {},
     "output_type": "execute_result"
    },
    {
     "data": {
      "text/plain": [
       "Text(0.5,1,'Number per class')"
      ]
     },
     "execution_count": 5,
     "metadata": {},
     "output_type": "execute_result"
    },
    {
     "data": {
      "text/plain": [
       "Text(0,0.5,'Number of Occurrences')"
      ]
     },
     "execution_count": 5,
     "metadata": {},
     "output_type": "execute_result"
    },
    {
     "data": {
      "text/plain": [
       "Text(0.5,0,'Type of Text ')"
      ]
     },
     "execution_count": 5,
     "metadata": {},
     "output_type": "execute_result"
    },
    {
     "data": {
      "text/plain": [
       "Text(0,976,'971.0')"
      ]
     },
     "execution_count": 5,
     "metadata": {},
     "output_type": "execute_result"
    },
    {
     "data": {
      "text/plain": [
       "Text(1,106,'101.0')"
      ]
     },
     "execution_count": 5,
     "metadata": {},
     "output_type": "execute_result"
    },
    {
     "data": {
      "text/plain": [
       "Text(2,532,'527.0')"
      ]
     },
     "execution_count": 5,
     "metadata": {},
     "output_type": "execute_result"
    },
    {
     "data": {
      "text/plain": [
       "Text(3,38,'33.0')"
      ]
     },
     "execution_count": 5,
     "metadata": {},
     "output_type": "execute_result"
    },
    {
     "data": {
      "text/plain": [
       "Text(4,499,'494.0')"
      ]
     },
     "execution_count": 5,
     "metadata": {},
     "output_type": "execute_result"
    },
    {
     "data": {
      "text/plain": [
       "Text(5,89,'84.0')"
      ]
     },
     "execution_count": 5,
     "metadata": {},
     "output_type": "execute_result"
    },
    {
     "data": {
      "text/plain": [
       "Text(6,8975,'8970.0')"
      ]
     },
     "execution_count": 5,
     "metadata": {},
     "output_type": "execute_result"
    },
    {
     "data": {
      "image/png": "[encoded data removed]",
      "text/plain": [
       "<matplotlib.figure.Figure at 0x163362084e0>"
      ]
     },
     "metadata": {},
     "output_type": "display_data"
    }
   ],
   "source": [
    "# check class imbalance\n",
    "x=train.iloc[:,2:].sum()\n",
    "#plot\n",
    "plt.figure(figsize=(8,4))\n",
    "ax= sns.barplot(x.index, x.values, alpha=0.8)\n",
    "plt.title(\"Number per class\")\n",
    "plt.ylabel('Number of Occurrences', fontsize=12)\n",
    "plt.xlabel('Type of Text ', fontsize=12)\n",
    "#adding the text labels\n",
    "rects = ax.patches\n",
    "labels = x.values\n",
    "\n",
    "for rect, label in zip(rects, labels):\n",
    "    height = rect.get_height()\n",
    "    ax.text(rect.get_x() + rect.get_width()/2, height + 5, label, ha='center', va='bottom')\n",
    "plt.show()"
   ]
  },
  {
   "cell_type": "code",
   "execution_count": 6,
   "metadata": {},
   "outputs": [
    {
     "data": {
      "text/plain": [
       "<matplotlib.figure.Figure at 0x16336715780>"
      ]
     },
     "execution_count": 6,
     "metadata": {},
     "output_type": "execute_result"
    },
    {
     "data": {
      "text/plain": [
       "Text(0.5,1,'Multiple tags per comment')"
      ]
     },
     "execution_count": 6,
     "metadata": {},
     "output_type": "execute_result"
    },
    {
     "data": {
      "text/plain": [
       "Text(0,0.5,'Number of Occurrences')"
      ]
     },
     "execution_count": 6,
     "metadata": {},
     "output_type": "execute_result"
    },
    {
     "data": {
      "text/plain": [
       "Text(0.5,0,'Number of tags ')"
      ]
     },
     "execution_count": 6,
     "metadata": {},
     "output_type": "execute_result"
    },
    {
     "data": {
      "text/plain": [
       "Text(0,8975,'8970')"
      ]
     },
     "execution_count": 6,
     "metadata": {},
     "output_type": "execute_result"
    },
    {
     "data": {
      "text/plain": [
       "Text(1,406,'401')"
      ]
     },
     "execution_count": 6,
     "metadata": {},
     "output_type": "execute_result"
    },
    {
     "data": {
      "text/plain": [
       "Text(2,244,'254')"
      ]
     },
     "execution_count": 6,
     "metadata": {},
     "output_type": "execute_result"
    },
    {
     "data": {
      "text/plain": [
       "Text(3,259,'239')"
      ]
     },
     "execution_count": 6,
     "metadata": {},
     "output_type": "execute_result"
    },
    {
     "data": {
      "text/plain": [
       "Text(4,119,'114')"
      ]
     },
     "execution_count": 6,
     "metadata": {},
     "output_type": "execute_result"
    },
    {
     "data": {
      "text/plain": [
       "Text(5,24,'19')"
      ]
     },
     "execution_count": 6,
     "metadata": {},
     "output_type": "execute_result"
    },
    {
     "data": {
      "text/plain": [
       "Text(6,8,'3')"
      ]
     },
     "execution_count": 6,
     "metadata": {},
     "output_type": "execute_result"
    },
    {
     "data": {
      "image/png": "[encoded data removed]",
      "text/plain": [
       "<matplotlib.figure.Figure at 0x16336715780>"
      ]
     },
     "metadata": {},
     "output_type": "display_data"
    }
   ],
   "source": [
    "# check multi-tagging situation\n",
    "x=rowsums.value_counts()\n",
    "\n",
    "# plot\n",
    "plt.figure(figsize=(8,4))\n",
    "ax = sns.barplot(x.index, x.values, alpha=0.8,color='blue')\n",
    "plt.title(\"Multiple tags per comment\")\n",
    "plt.ylabel('Number of Occurrences', fontsize=12)\n",
    "plt.xlabel('Number of tags ', fontsize=12)\n",
    "\n",
    "#adding the text labels\n",
    "rects = ax.patches\n",
    "labels = x.values\n",
    "\n",
    "for rect, label in zip(rects, labels):\n",
    "    height = rect.get_height()\n",
    "    ax.text(rect.get_x() + rect.get_width()/2, height + 5, label, ha='center', va='bottom')\n",
    "plt.show()"
   ]
  },
  {
   "cell_type": "code",
   "execution_count": 7,
   "metadata": {},
   "outputs": [
    {
     "data": {
      "text/html": [
       "<style  type=\"text/css\" >\n",
       "    #T_5843f3c0_4823_11e8_8838_2c56dcb91749row0_col1 {\n",
       "            background-color:  yellow;\n",
       "        }    #T_5843f3c0_4823_11e8_8838_2c56dcb91749row0_col3 {\n",
       "            background-color:  yellow;\n",
       "        }    #T_5843f3c0_4823_11e8_8838_2c56dcb91749row0_col5 {\n",
       "            background-color:  yellow;\n",
       "        }    #T_5843f3c0_4823_11e8_8838_2c56dcb91749row0_col7 {\n",
       "            background-color:  yellow;\n",
       "        }    #T_5843f3c0_4823_11e8_8838_2c56dcb91749row0_col9 {\n",
       "            background-color:  yellow;\n",
       "        }    #T_5843f3c0_4823_11e8_8838_2c56dcb91749row1_col0 {\n",
       "            background-color:  yellow;\n",
       "        }    #T_5843f3c0_4823_11e8_8838_2c56dcb91749row1_col2 {\n",
       "            background-color:  yellow;\n",
       "        }    #T_5843f3c0_4823_11e8_8838_2c56dcb91749row1_col4 {\n",
       "            background-color:  yellow;\n",
       "        }    #T_5843f3c0_4823_11e8_8838_2c56dcb91749row1_col6 {\n",
       "            background-color:  yellow;\n",
       "        }    #T_5843f3c0_4823_11e8_8838_2c56dcb91749row1_col8 {\n",
       "            background-color:  yellow;\n",
       "        }</style>  \n",
       "<table id=\"T_5843f3c0_4823_11e8_8838_2c56dcb91749\" > \n",
       "<thead>    <tr> \n",
       "        <th class=\"blank level0\" ></th> \n",
       "        <th class=\"col_heading level0 col0\" colspan=2>severe_toxic</th> \n",
       "        <th class=\"col_heading level0 col2\" colspan=2>obscene</th> \n",
       "        <th class=\"col_heading level0 col4\" colspan=2>threat</th> \n",
       "        <th class=\"col_heading level0 col6\" colspan=2>insult</th> \n",
       "        <th class=\"col_heading level0 col8\" colspan=2>identity_hate</th> \n",
       "    </tr>    <tr> \n",
       "        <th class=\"index_name level1\" >severe_toxic</th> \n",
       "        <th class=\"col_heading level1 col0\" >0</th> \n",
       "        <th class=\"col_heading level1 col1\" >1</th> \n",
       "        <th class=\"col_heading level1 col2\" >0</th> \n",
       "        <th class=\"col_heading level1 col3\" >1</th> \n",
       "        <th class=\"col_heading level1 col4\" >0</th> \n",
       "        <th class=\"col_heading level1 col5\" >1</th> \n",
       "        <th class=\"col_heading level1 col6\" >0</th> \n",
       "        <th class=\"col_heading level1 col7\" >1</th> \n",
       "        <th class=\"col_heading level1 col8\" >0</th> \n",
       "        <th class=\"col_heading level1 col9\" >1</th> \n",
       "    </tr>    <tr> \n",
       "        <th class=\"index_name level0\" >toxic</th> \n",
       "        <th class=\"blank\" ></th> \n",
       "        <th class=\"blank\" ></th> \n",
       "        <th class=\"blank\" ></th> \n",
       "        <th class=\"blank\" ></th> \n",
       "        <th class=\"blank\" ></th> \n",
       "        <th class=\"blank\" ></th> \n",
       "        <th class=\"blank\" ></th> \n",
       "        <th class=\"blank\" ></th> \n",
       "        <th class=\"blank\" ></th> \n",
       "        <th class=\"blank\" ></th> \n",
       "    </tr></thead> \n",
       "<tbody>    <tr> \n",
       "        <th id=\"T_5843f3c0_4823_11e8_8838_2c56dcb91749level0_row0\" class=\"row_heading level0 row0\" >0</th> \n",
       "        <td id=\"T_5843f3c0_4823_11e8_8838_2c56dcb91749row0_col0\" class=\"data row0 col0\" >9029</td> \n",
       "        <td id=\"T_5843f3c0_4823_11e8_8838_2c56dcb91749row0_col1\" class=\"data row0 col1\" >0</td> \n",
       "        <td id=\"T_5843f3c0_4823_11e8_8838_2c56dcb91749row0_col2\" class=\"data row0 col2\" >8993</td> \n",
       "        <td id=\"T_5843f3c0_4823_11e8_8838_2c56dcb91749row0_col3\" class=\"data row0 col3\" >36</td> \n",
       "        <td id=\"T_5843f3c0_4823_11e8_8838_2c56dcb91749row0_col4\" class=\"data row0 col4\" >9027</td> \n",
       "        <td id=\"T_5843f3c0_4823_11e8_8838_2c56dcb91749row0_col5\" class=\"data row0 col5\" >2</td> \n",
       "        <td id=\"T_5843f3c0_4823_11e8_8838_2c56dcb91749row0_col6\" class=\"data row0 col6\" >8995</td> \n",
       "        <td id=\"T_5843f3c0_4823_11e8_8838_2c56dcb91749row0_col7\" class=\"data row0 col7\" >34</td> \n",
       "        <td id=\"T_5843f3c0_4823_11e8_8838_2c56dcb91749row0_col8\" class=\"data row0 col8\" >9024</td> \n",
       "        <td id=\"T_5843f3c0_4823_11e8_8838_2c56dcb91749row0_col9\" class=\"data row0 col9\" >5</td> \n",
       "    </tr>    <tr> \n",
       "        <th id=\"T_5843f3c0_4823_11e8_8838_2c56dcb91749level0_row1\" class=\"row_heading level0 row1\" >1</th> \n",
       "        <td id=\"T_5843f3c0_4823_11e8_8838_2c56dcb91749row1_col0\" class=\"data row1 col0\" >870</td> \n",
       "        <td id=\"T_5843f3c0_4823_11e8_8838_2c56dcb91749row1_col1\" class=\"data row1 col1\" >101</td> \n",
       "        <td id=\"T_5843f3c0_4823_11e8_8838_2c56dcb91749row1_col2\" class=\"data row1 col2\" >480</td> \n",
       "        <td id=\"T_5843f3c0_4823_11e8_8838_2c56dcb91749row1_col3\" class=\"data row1 col3\" >491</td> \n",
       "        <td id=\"T_5843f3c0_4823_11e8_8838_2c56dcb91749row1_col4\" class=\"data row1 col4\" >940</td> \n",
       "        <td id=\"T_5843f3c0_4823_11e8_8838_2c56dcb91749row1_col5\" class=\"data row1 col5\" >31</td> \n",
       "        <td id=\"T_5843f3c0_4823_11e8_8838_2c56dcb91749row1_col6\" class=\"data row1 col6\" >511</td> \n",
       "        <td id=\"T_5843f3c0_4823_11e8_8838_2c56dcb91749row1_col7\" class=\"data row1 col7\" >460</td> \n",
       "        <td id=\"T_5843f3c0_4823_11e8_8838_2c56dcb91749row1_col8\" class=\"data row1 col8\" >892</td> \n",
       "        <td id=\"T_5843f3c0_4823_11e8_8838_2c56dcb91749row1_col9\" class=\"data row1 col9\" >79</td> \n",
       "    </tr></tbody> \n",
       "</table> "
      ],
      "text/plain": [
       "<pandas.io.formats.style.Styler at 0x1633665c898>"
      ]
     },
     "execution_count": 7,
     "metadata": {},
     "output_type": "execute_result"
    }
   ],
   "source": [
    "# crosstab/confusion matrix of Toxic comments with the other classes\n",
    "temp_df=train.iloc[:,2:-1]\n",
    "# crosstab\n",
    "# since technically a crosstab between all 6 classes is impossible to vizualize, lets take a look at toxic with other tags\n",
    "main_col=\"toxic\"\n",
    "corr_mats=[]\n",
    "for other_col in temp_df.columns[1:]:\n",
    "    confusion_matrix = pd.crosstab(temp_df[main_col], temp_df[other_col])\n",
    "    corr_mats.append(confusion_matrix)\n",
    "out = pd.concat(corr_mats,axis=1,keys=temp_df.columns[1:])\n",
    "\n",
    "def highlight_min(s):\n",
    "    '''\n",
    "    highlight the maximum in a Series yellow.\n",
    "    '''\n",
    "    is_min = s == s.min()\n",
    "    return ['background-color: yellow' if v else '' for v in is_min]\n",
    "\n",
    "out = out.style.apply(highlight_min,axis=0)\n",
    "out"
   ]
  },
  {
   "cell_type": "code",
   "execution_count": 8,
   "metadata": {},
   "outputs": [
    {
     "data": {
      "text/plain": [
       "<matplotlib.figure.Figure at 0x16336816898>"
      ]
     },
     "execution_count": 8,
     "metadata": {},
     "output_type": "execute_result"
    },
    {
     "data": {
      "text/plain": [
       "Text(0.5,1,\"Venn diagram for 'toxic', 'insult' and 'obscene'\")"
      ]
     },
     "execution_count": 8,
     "metadata": {},
     "output_type": "execute_result"
    },
    {
     "data": {
      "text/plain": [
       "<matplotlib_venn._common.VennDiagram at 0x16336c89e80>"
      ]
     },
     "execution_count": 8,
     "metadata": {},
     "output_type": "execute_result"
    },
    {
     "data": {
      "image/png": "[encoded data removed]",
      "text/plain": [
       "<matplotlib.figure.Figure at 0x16336816898>"
      ]
     },
     "metadata": {},
     "output_type": "display_data"
    }
   ],
   "source": [
    "# venn diagram for toxic, obscene,and insult\n",
    "from matplotlib_venn import venn2\n",
    "from matplotlib_venn import venn3\n",
    "t = train[(train['toxic'] == 1) & (train['insult'] == 0) & (train['obscene'] == 0)].shape[0]\n",
    "i = train[(train['toxic'] == 0) & (train['insult'] == 1) & (train['obscene'] == 0)].shape[0]\n",
    "o = train[(train['toxic'] == 0) & (train['insult'] == 0) & (train['obscene'] == 1)].shape[0]\n",
    "\n",
    "t_i = train[(train['toxic'] == 1) & (train['insult'] == 1) & (train['obscene'] == 0)].shape[0]\n",
    "t_o = train[(train['toxic'] == 1) & (train['insult'] == 0) & (train['obscene'] == 1)].shape[0]\n",
    "i_o = train[(train['toxic'] == 0) & (train['insult'] == 1) & (train['obscene'] == 1)].shape[0]\n",
    "t_i_o = train[(train['toxic'] == 1) & (train['insult'] == 1) & (train['obscene'] == 1)].shape[0]\n",
    "\n",
    "\n",
    "# make the diagram\n",
    "plt.figure(figsize=(8, 8))\n",
    "plt.title(\"Venn diagram for 'toxic', 'insult' and 'obscene'\")\n",
    "venn3(subsets = (t, i, t_i, o, t_o, i_o, t_i_o), \n",
    "      set_labels=('toxic', 'insult', 'obscene'))\n",
    "plt.show()"
   ]
  },
  {
   "cell_type": "code",
   "execution_count": 9,
   "metadata": {
    "_cell_guid": "49f6b26a-9b0d-4b17-9541-07499497bf75",
    "_uuid": "5314745d9591b2f4d78ce2f0b5de47c26268a8ac",
    "collapsed": true
   },
   "outputs": [
    {
     "data": {
      "text/plain": [
       "0    Explanation\\nWhy the edits made under my usern...\n",
       "1    D'aww! He matches this background colour I'm s...\n",
       "2    Hey man, I'm really not trying to edit war. It...\n",
       "3    \"\\nMore\\nI can't make any real suggestions on ...\n",
       "4    You, sir, are my hero. Any chance you remember...\n",
       "Name: comment_text, dtype: object"
      ]
     },
     "execution_count": 9,
     "metadata": {},
     "output_type": "execute_result"
    },
    {
     "data": {
      "text/plain": [
       "0    Yo bitch Ja Rule is more succesful then you'll...\n",
       "1    == From RfC == \\n\\n The title is fine as it is...\n",
       "2    \" \\n\\n == Sources == \\n\\n * Zawe Ashton on Lap...\n",
       "3    :If you have a look back at the source, the in...\n",
       "4            I don't anonymously edit articles at all.\n",
       "Name: comment_text, dtype: object"
      ]
     },
     "execution_count": 9,
     "metadata": {},
     "output_type": "execute_result"
    },
    {
     "data": {
      "text/plain": [
       "10000"
      ]
     },
     "execution_count": 9,
     "metadata": {},
     "output_type": "execute_result"
    },
    {
     "data": {
      "text/plain": [
       "10000"
      ]
     },
     "execution_count": 9,
     "metadata": {},
     "output_type": "execute_result"
    }
   ],
   "source": [
    "# verifying data\n",
    "train.comment_text.head()\n",
    "test.comment_text.head()\n",
    "len(train)\n",
    "len(test)"
   ]
  },
  {
   "cell_type": "code",
   "execution_count": 10,
   "metadata": {},
   "outputs": [],
   "source": [
    "# creating train-validation split\n",
    "X_train, X_val, y_train, y_val = train_test_split(train.comment_text, train.iloc[:,2:8], test_size=0.3, random_state=19)\n",
    "X_test = test.comment_text"
   ]
  },
  {
   "cell_type": "code",
   "execution_count": 11,
   "metadata": {},
   "outputs": [],
   "source": [
    "# creating function to normalize text\n",
    "def normalize(text):\n",
    "    # recognizing new line characters and tab spaces and substituting it with space\n",
    "    norm_text = re.sub(r'\\n|\\t', ' ', text)\n",
    "    # recognizing time values\n",
    "    norm_text = re.sub(r'[0-9]{1,2}:[0-9][0-9]', 'time_value', norm_text) # example 5:13pm and 05:13pm\n",
    "    # recognizing date values\n",
    "    norm_text = re.sub(r'\\d{1,4}[-/]\\d{1,2}[-/]\\d{1,4}', 'date_value', norm_text) # example 2018-03/05 and 04/03-2018\n",
    "    norm_text = re.sub(r'[0-9]{1,4}[ ,][A-Za-z]{3,10}[ ,][0-9]{1,4}', 'date_value', norm_text) # example 9 june 2009 and 9 June 2009\n",
    "    # substitute characters not required by nothing, removing unrequired characters\n",
    "    norm_text = re.sub(r'[^A-Za-z_ ]', ' ', norm_text)\n",
    "    # removing multiple space values\n",
    "    norm_text = re.sub(r' +', ' ', norm_text)\n",
    "    # removing trailing spaces from front and back and converting all text to lowercase\n",
    "    norm_text = norm_text.strip().lower()\n",
    "    return norm_text"
   ]
  },
  {
   "cell_type": "code",
   "execution_count": 12,
   "metadata": {},
   "outputs": [],
   "source": [
    "# creating stemmer object of PorterStemmer function\n",
    "stemmer = PorterStemmer()\n",
    "\n",
    "# writing stem_tokens function to perform stemming on tokens\n",
    "def stem_tokens(tokens, stemmer): # tokens example: ['today', 'is', 'a', 'good', 'day']\n",
    "    stemmed = [stemmer.stem(word) for word in tokens]\n",
    "    return stemmed"
   ]
  },
  {
   "cell_type": "code",
   "execution_count": 13,
   "metadata": {},
   "outputs": [],
   "source": [
    "# processing text as follows\n",
    "# tokenize words in each comment\n",
    "# remove stopwords or words upto lenght of 3 characters\n",
    "# stem words using the stem_tokens function we created above\n",
    "def text_process(text): # text is a single sentence; for example: 'today is a good day'\n",
    "    temp_tokens = word_tokenize(text)\n",
    "\n",
    "    # using alternative to removing stopwords of english\n",
    "    ## tokens = [word for word in temp_tokens if len(word) > 3]\n",
    "    \n",
    "    # removing english stopwords, code was commented to save computation time\n",
    "    nostop_tokens = [word for word in temp_tokens if word not in stopwords.words('english')]\n",
    "    \n",
    "    stems = stem_tokens(nostop_tokens, stemmer)\n",
    "    return ' '.join(stems)"
   ]
  },
  {
   "cell_type": "code",
   "execution_count": 14,
   "metadata": {},
   "outputs": [
    {
     "data": {
      "text/plain": [
       "179"
      ]
     },
     "execution_count": 14,
     "metadata": {},
     "output_type": "execute_result"
    },
    {
     "data": {
      "text/plain": [
       "['i', 'me', 'my', 'myself', 'we', 'our', 'ours', 'ourselves', 'you', \"you're\"]"
      ]
     },
     "execution_count": 14,
     "metadata": {},
     "output_type": "execute_result"
    }
   ],
   "source": [
    "# lenght of stopword of english\n",
    "len(stopwords.words('english'))\n",
    "stopwords.words('english')[:10]"
   ]
  },
  {
   "cell_type": "code",
   "execution_count": 15,
   "metadata": {},
   "outputs": [],
   "source": [
    "# preparing training text to pass in count vectorizer\n",
    "corpus = []\n",
    "for text in X_train:\n",
    "    text = normalize(text)\n",
    "    text = text_process(text)\n",
    "    corpus.append(text)"
   ]
  },
  {
   "cell_type": "code",
   "execution_count": 16,
   "metadata": {},
   "outputs": [],
   "source": [
    "# build Count Vectorizer, to convert a collection of text documents to a matrix of token counts\n",
    "count_vect = CountVectorizer(ngram_range=(1,2))\n",
    "X_train_counts = count_vect.fit_transform(corpus)"
   ]
  },
  {
   "cell_type": "code",
   "execution_count": 17,
   "metadata": {},
   "outputs": [],
   "source": [
    "# build TFIDF Transformer, to transform a count matrix to a normalized tf or tf-idf representation\n",
    "# tfidf - term frequency inverse document frequency\n",
    "tfidf_transformer = TfidfTransformer()\n",
    "X_train_tfidf = tfidf_transformer.fit_transform(X_train_counts)"
   ]
  },
  {
   "cell_type": "code",
   "execution_count": 18,
   "metadata": {},
   "outputs": [],
   "source": [
    "# verifing data\n",
    "# print(X_train_counts.toarray())"
   ]
  },
  {
   "cell_type": "code",
   "execution_count": 19,
   "metadata": {},
   "outputs": [],
   "source": [
    "# verifing data\n",
    "# print(X_train_tfidf.toarray())"
   ]
  },
  {
   "cell_type": "code",
   "execution_count": 20,
   "metadata": {},
   "outputs": [
    {
     "name": "stdout",
     "output_type": "stream",
     "text": [
      "                                                  After  \\\n",
      "8754  mani biographi wp mention birth date subject m...   \n",
      "1930  pursuant wikipedia polici biographi live perso...   \n",
      "3496  prefer summar melton disput interpret quot agr...   \n",
      "5653  worth page like get delet time wish chang guid...   \n",
      "3100                                          btw sourc   \n",
      "4515  whilst agre colonel warden flesh good idea gue...   \n",
      "7352  cleon ad remark talk page perhap sort cleon od...   \n",
      "9895                          sonjay dutt deserv better   \n",
      "8457  potenti show mafioso howev fan club link asu i...   \n",
      "8196  revers move need new wp rm new discuss want de...   \n",
      "\n",
      "                                                 Before  \n",
      "8754  There are many biographies on WP that do not m...  \n",
      "1930  Pursuant to the Wikipedia's policy on biograph...  \n",
      "3496  I prefer to summarize Melton, but there was a ...  \n",
      "5653  For what it's worth, pages like this get delet...  \n",
      "3100                        BTW, It is sourced, by you.  \n",
      "4515  \"\\nWhilst I agree with Colonel Warden that \"\"f...  \n",
      "7352  Cleon has added some remarks on this on my tal...  \n",
      "9895                        Sonjay Dutt deserves better  \n",
      "8457  \"\\n\\nYou potentially shows \"\"mafioso\"\". Howeve...  \n",
      "8196  \"\\nI've reversed your moves. You'll need a new...  \n"
     ]
    }
   ],
   "source": [
    "# checking how much text is transformed\n",
    "temp = pd.DataFrame({'Before': X_train, 'After': corpus})\n",
    "print(temp.sample(10))"
   ]
  },
  {
   "cell_type": "code",
   "execution_count": 21,
   "metadata": {},
   "outputs": [],
   "source": [
    "# preparing validation text to pass in count vectorizer\n",
    "X_val_set = []\n",
    "for text in X_val:\n",
    "    text = normalize(text)\n",
    "    text = text_process(text)\n",
    "    X_val_set.append(text)\n",
    "\n",
    "# tranforming validation data using count vectorizer followed by tfidf transformer\n",
    "X_val_counts = count_vect.transform(X_val_set)\n",
    "X_val_tfidf = tfidf_transformer.transform(X_val_counts)"
   ]
  },
  {
   "cell_type": "code",
   "execution_count": 22,
   "metadata": {},
   "outputs": [],
   "source": [
    "# preparing test text to pass in count vectorizer\n",
    "X_test_set = []\n",
    "for text in X_test:\n",
    "    text = normalize(text)\n",
    "    text = text_process(text)\n",
    "    X_test_set.append(text)\n",
    "\n",
    "# tranforming validation data using count vectorizer followed by tfidf transformer\n",
    "X_test_counts = count_vect.transform(X_test_set)\n",
    "X_test_tfidf = tfidf_transformer.transform(X_test_counts)"
   ]
  },
  {
   "cell_type": "code",
   "execution_count": 23,
   "metadata": {},
   "outputs": [],
   "source": [
    "# Singular Value Decomposition\n",
    "# Commented as using SVD decreased the estimation score\n",
    "# build Truncated SVD to reduce the dimensionality\n",
    "\n",
    "## svd=TruncatedSVD(n_components=100)\n",
    "## X_train_svd = svd.fit_transform(X_train_tfidf)\n",
    "## X_val_svd = svd.transform(X_val_tfidf)\n",
    "## X_test_svd = svd.transform(X_test_tfidf)"
   ]
  },
  {
   "cell_type": "code",
   "execution_count": 24,
   "metadata": {},
   "outputs": [],
   "source": [
    "# creating dictionary to store prediction results\n",
    "result_test = dict()\n",
    "result_val = dict()"
   ]
  },
  {
   "cell_type": "code",
   "execution_count": 25,
   "metadata": {},
   "outputs": [
    {
     "data": {
      "text/plain": [
       "GridSearchCV(cv=None, error_score='raise',\n",
       "       estimator=OneVsRestClassifier(estimator=MultinomialNB(alpha=1.0, class_prior=None, fit_prior=True),\n",
       "          n_jobs=1),\n",
       "       fit_params=None, iid=True, n_jobs=1,\n",
       "       param_grid={'estimator__alpha': [0.001, 0.01, 0.1, 1.0, 10, 100]},\n",
       "       pre_dispatch='2*n_jobs', refit=True, return_train_score='warn',\n",
       "       scoring='roc_auc', verbose=0)"
      ]
     },
     "execution_count": 25,
     "metadata": {},
     "output_type": "execute_result"
    },
    {
     "name": "stdout",
     "output_type": "stream",
     "text": [
      "Accurary of Multinomial Naive Bayes Classifier on Training Data: 1.000\n",
      "Accurary of Multinomial Naive Bayes Classifier on Validation Data: 0.825\n",
      "Grid best parameter (max. accuracy):  {'estimator__alpha': 0.1}\n",
      "Grid best score (accuracy):  0.848985648234\n"
     ]
    }
   ],
   "source": [
    "# Multinomial Naive Bayes Model\n",
    "MNB_classifier = OneVsRestClassifier(MultinomialNB())\n",
    "grid_values = {'estimator__alpha': [0.001, 0.01, 0.1, 1.0, 10, 100]}\n",
    "MNB_model = GridSearchCV(MNB_classifier, param_grid = grid_values, scoring = 'roc_auc')\n",
    "MNB_model.fit(X_train_tfidf, y_train)\n",
    "print('Accurary of Multinomial Naive Bayes Classifier on Training Data: {:.3f}' .format(MNB_model.score(X_train_tfidf, y_train)))\n",
    "print('Accurary of Multinomial Naive Bayes Classifier on Validation Data: {:.3f}' .format(MNB_model.score(X_val_tfidf, y_val)))\n",
    "print('Grid best parameter (max. accuracy): ', MNB_model.best_params_)\n",
    "print('Grid best score (accuracy): ', MNB_model.best_score_)\n",
    "result_test['Multinomial_NB'] = MNB_model.predict(X_test_tfidf)\n",
    "result_val['Multinomial_NB'] = MNB_model.predict(X_val_tfidf)"
   ]
  },
  {
   "cell_type": "code",
   "execution_count": 26,
   "metadata": {},
   "outputs": [
    {
     "data": {
      "text/plain": [
       "array([376,   0, 133,   0,  53,   0])"
      ]
     },
     "execution_count": 26,
     "metadata": {},
     "output_type": "execute_result"
    }
   ],
   "source": [
    "# Multinomial_NB result summary\n",
    "result_test['Multinomial_NB'].sum(axis=0)"
   ]
  },
  {
   "cell_type": "code",
   "execution_count": 27,
   "metadata": {},
   "outputs": [
    {
     "data": {
      "text/plain": [
       "GridSearchCV(cv=None, error_score='raise',\n",
       "       estimator=OneVsRestClassifier(estimator=BernoulliNB(alpha=1.0, binarize=0.0, class_prior=None, fit_prior=True),\n",
       "          n_jobs=1),\n",
       "       fit_params=None, iid=True, n_jobs=1,\n",
       "       param_grid={'estimator__alpha': [0.001, 0.01, 0.1, 1.0, 10, 100]},\n",
       "       pre_dispatch='2*n_jobs', refit=True, return_train_score='warn',\n",
       "       scoring='roc_auc', verbose=0)"
      ]
     },
     "execution_count": 27,
     "metadata": {},
     "output_type": "execute_result"
    },
    {
     "name": "stdout",
     "output_type": "stream",
     "text": [
      "Accurary of Bernoulli Naive Bayes Classifier on Training Data: 1.000\n",
      "Accurary of Bernoulli Naive Bayes Classifier on Validation Data: 0.814\n",
      "Grid best parameter (max. accuracy):  {'estimator__alpha': 0.001}\n",
      "Grid best score (accuracy):  0.815762586966\n"
     ]
    }
   ],
   "source": [
    "# Bernoulli Naive Bayes Model\n",
    "BNB_classifier = OneVsRestClassifier(BernoulliNB())\n",
    "grid_values = {'estimator__alpha': [0.001, 0.01, 0.1, 1.0, 10, 100]}\n",
    "BNB_model = GridSearchCV(BNB_classifier, param_grid = grid_values, scoring = 'roc_auc')\n",
    "BNB_model.fit(X_train_tfidf, y_train)\n",
    "print('Accurary of Bernoulli Naive Bayes Classifier on Training Data: {:.3f}' .format(BNB_model.score(X_train_tfidf, y_train)))\n",
    "print('Accurary of Bernoulli Naive Bayes Classifier on Validation Data: {:.3f}' .format(BNB_model.score(X_val_tfidf, y_val)))\n",
    "print('Grid best parameter (max. accuracy): ', BNB_model.best_params_)\n",
    "print('Grid best score (accuracy): ', BNB_model.best_score_)\n",
    "result_test['Bernoulli_NB'] = BNB_model.predict(X_test_tfidf)\n",
    "result_val['Bernoulli_NB'] = BNB_model.predict(X_val_tfidf)"
   ]
  },
  {
   "cell_type": "code",
   "execution_count": 28,
   "metadata": {},
   "outputs": [
    {
     "data": {
      "text/plain": [
       "array([3770, 2457, 3265, 2089, 3453, 2447])"
      ]
     },
     "execution_count": 28,
     "metadata": {},
     "output_type": "execute_result"
    }
   ],
   "source": [
    "# Bernoulli_NB result summary\n",
    "result_test['Bernoulli_NB'].sum(axis=0)"
   ]
  },
  {
   "cell_type": "code",
   "execution_count": 29,
   "metadata": {},
   "outputs": [
    {
     "data": {
      "text/plain": [
       "GridSearchCV(cv=None, error_score='raise',\n",
       "       estimator=OneVsRestClassifier(estimator=LogisticRegression(C=1.0, class_weight=None, dual=False, fit_intercept=True,\n",
       "          intercept_scaling=1, max_iter=100, multi_class='ovr', n_jobs=1,\n",
       "          penalty='l2', random_state=None, solver='liblinear', tol=0.0001,\n",
       "          verbose=0, warm_start=False),\n",
       "          n_jobs=1),\n",
       "       fit_params=None, iid=True, n_jobs=1,\n",
       "       param_grid={'estimator__C': [0.3, 1.0, 30.0]},\n",
       "       pre_dispatch='2*n_jobs', refit=True, return_train_score='warn',\n",
       "       scoring='roc_auc', verbose=0)"
      ]
     },
     "execution_count": 29,
     "metadata": {},
     "output_type": "execute_result"
    },
    {
     "name": "stdout",
     "output_type": "stream",
     "text": [
      "Accurary of Logistic Regression Classifier on Training Data: 1.000\n",
      "Accurary of Logistic Regression Classifier on Validation Data: 0.971\n",
      "Grid best parameter (max. accuracy):  {'estimator__C': 30.0}\n",
      "Grid best score (accuracy):  0.953124843436\n"
     ]
    }
   ],
   "source": [
    "# Logistic Regression Model\n",
    "log_model = OneVsRestClassifier(LogisticRegression())\n",
    "#log_model.get_params().keys()\n",
    "grid_values = {'estimator__C': [0.3, 1.0, 30.0]}\n",
    "log_grid = GridSearchCV(log_model, param_grid = grid_values, scoring = 'roc_auc')\n",
    "log_grid.fit(X_train_tfidf, y_train)\n",
    "print('Accurary of Logistic Regression Classifier on Training Data: {:.3f}' .format(log_grid.score(X_train_tfidf, y_train)))\n",
    "print('Accurary of Logistic Regression Classifier on Validation Data: {:.3f}' .format(log_grid.score(X_val_tfidf, y_val)))\n",
    "print('Grid best parameter (max. accuracy): ', log_grid.best_params_)\n",
    "print('Grid best score (accuracy): ', log_grid.best_score_)\n",
    "result_test['Logistic_Regression'] = log_grid.predict(X_test_tfidf)\n",
    "result_val['Logistic_Regression'] = log_grid.predict(X_val_tfidf)"
   ]
  },
  {
   "cell_type": "code",
   "execution_count": 30,
   "metadata": {},
   "outputs": [
    {
     "data": {
      "text/plain": [
       "array([1269,   83,  712,    1,  663,   59])"
      ]
     },
     "execution_count": 30,
     "metadata": {},
     "output_type": "execute_result"
    }
   ],
   "source": [
    "# Logistic_Regression result summary\n",
    "result_test['Logistic_Regression'].sum(axis=0)"
   ]
  },
  {
   "cell_type": "code",
   "execution_count": 31,
   "metadata": {},
   "outputs": [
    {
     "data": {
      "text/plain": [
       "GridSearchCV(cv=None, error_score='raise',\n",
       "       estimator=OneVsRestClassifier(estimator=SVC(C=1.0, cache_size=200, class_weight=None, coef0=0.0,\n",
       "  decision_function_shape='ovr', degree=3, gamma='auto', kernel='linear',\n",
       "  max_iter=-1, probability=False, random_state=None, shrinking=True,\n",
       "  tol=0.001, verbose=False),\n",
       "          n_jobs=1),\n",
       "       fit_params=None, iid=True, n_jobs=1,\n",
       "       param_grid={'estimator__C': [0.3, 1.0, 30.0]},\n",
       "       pre_dispatch='2*n_jobs', refit=True, return_train_score='warn',\n",
       "       scoring='roc_auc', verbose=0)"
      ]
     },
     "execution_count": 31,
     "metadata": {},
     "output_type": "execute_result"
    },
    {
     "name": "stdout",
     "output_type": "stream",
     "text": [
      "Accurary of SVM Classifier on Training Data: 1.000\n",
      "Accurary of SVM Classifier on Validation Data: 0.953\n",
      "Grid best parameter (max. accuracy):  {'estimator__C': 0.3}\n",
      "Grid best score (accuracy):  0.939056090018\n"
     ]
    }
   ],
   "source": [
    "# SVM Classifier Model\n",
    "grid_values = {'estimator__C': [0.3, 1.0, 30.0]}\n",
    "svm_model = OneVsRestClassifier(SVC(kernel = 'linear'))\n",
    "svm_grid = GridSearchCV(svm_model, param_grid = grid_values, scoring = 'roc_auc')\n",
    "svm_grid.fit(X_train_tfidf, y_train)\n",
    "print('Accurary of SVM Classifier on Training Data: {:.3f}' .format(svm_grid.score(X_train_tfidf, y_train)))\n",
    "print('Accurary of SVM Classifier on Validation Data: {:.3f}' .format(svm_grid.score(X_val_tfidf, y_val)))\n",
    "print('Grid best parameter (max. accuracy): ', svm_grid.best_params_)\n",
    "print('Grid best score (accuracy): ', svm_grid.best_score_)\n",
    "result_test['SVM_Classifier'] = svm_grid.predict(X_test_tfidf)\n",
    "result_val['SVM_Classifier'] = svm_grid.predict(X_val_tfidf)"
   ]
  },
  {
   "cell_type": "code",
   "execution_count": 32,
   "metadata": {},
   "outputs": [
    {
     "data": {
      "text/plain": [
       "array([592,   0, 455,   0, 304,   0])"
      ]
     },
     "execution_count": 32,
     "metadata": {},
     "output_type": "execute_result"
    }
   ],
   "source": [
    "# SVM_Classifier result summary\n",
    "result_test['SVM_Classifier'].sum(axis=0)"
   ]
  },
  {
   "cell_type": "code",
   "execution_count": 33,
   "metadata": {},
   "outputs": [
    {
     "name": "stdout",
     "output_type": "stream",
     "text": [
      "Number of Toxic Cases using Multinomial Naive Bayes Model: 562.00\n",
      "Number of Toxic Cases using Bernoulli Naive Bayes Model: 17481.00\n",
      "Number of Toxic Cases using Logistic Regression Classifier Model: 2787.00\n",
      "Number of Toxic Cases using SVM Classifier Model: 1351.00\n",
      "\n",
      "Total Number of Comments for which we made Predictions: 10000.00\n",
      "\n",
      "Total Number of Positive Cases in Training Data (Training + Validation): 2210.00\n",
      "Total Number of Comments in Training Data (Training + Validation): 10000.00\n",
      "Number of Toxic Cases using SVM Classifier Model: 406.00\n"
     ]
    }
   ],
   "source": [
    "# how many positive cases, i.e toxic cases we recognized for each model?\n",
    "print('Number of Toxic Cases using Multinomial Naive Bayes Model: {:.2f}' .format(result_test['Multinomial_NB'].sum()))\n",
    "print('Number of Toxic Cases using Bernoulli Naive Bayes Model: {:.2f}' .format(result_test['Bernoulli_NB'].sum()))\n",
    "print('Number of Toxic Cases using Logistic Regression Classifier Model: {:.2f}' .format(result_test['Logistic_Regression'].sum()))\n",
    "print('Number of Toxic Cases using SVM Classifier Model: {:.2f}' .format(result_test['SVM_Classifier'].sum()))\n",
    "\n",
    "# predicted for how many comments?\n",
    "print('\\nTotal Number of Comments for which we made Predictions: {:.2f}' .format(len(X_test)))\n",
    "\n",
    "# number of positive cases in training data and length of training data, includes validation data\n",
    "print('\\nTotal Number of Positive Cases in Training Data (Training + Validation): {:.2f}' .format(train.iloc[:,2:8].sum(axis=0).sum()))\n",
    "print('Total Number of Comments in Training Data (Training + Validation): {:.2f}' .format(len(X_train)+len(X_val)))\n",
    "\n",
    "# number of predicted positive cases in training data using SVM model\n",
    "print('Number of Toxic Cases using SVM Classifier Model: {:.2f}' .format(svm_grid.predict(X_train_tfidf).sum()))"
   ]
  },
  {
   "cell_type": "code",
   "execution_count": 34,
   "metadata": {},
   "outputs": [
    {
     "data": {
      "text/plain": [
       "numpy.ndarray"
      ]
     },
     "execution_count": 34,
     "metadata": {},
     "output_type": "execute_result"
    }
   ],
   "source": [
    "# storing results of SVM Classifier as our result\n",
    "y_test = result_test['SVM_Classifier']\n",
    "type(y_test)"
   ]
  },
  {
   "cell_type": "code",
   "execution_count": 35,
   "metadata": {},
   "outputs": [
    {
     "data": {
      "text/html": [
       "<div>\n",
       "<style>\n",
       "    .dataframe thead tr:only-child th {\n",
       "        text-align: right;\n",
       "    }\n",
       "\n",
       "    .dataframe thead th {\n",
       "        text-align: left;\n",
       "    }\n",
       "\n",
       "    .dataframe tbody tr th {\n",
       "        vertical-align: top;\n",
       "    }\n",
       "</style>\n",
       "<table border=\"1\" class=\"dataframe\">\n",
       "  <thead>\n",
       "    <tr style=\"text-align: right;\">\n",
       "      <th></th>\n",
       "      <th>id</th>\n",
       "      <th>comment_text</th>\n",
       "      <th>toxic</th>\n",
       "      <th>severe_toxic</th>\n",
       "      <th>obscene</th>\n",
       "      <th>threat</th>\n",
       "      <th>insult</th>\n",
       "      <th>identity_hate</th>\n",
       "    </tr>\n",
       "  </thead>\n",
       "  <tbody>\n",
       "    <tr>\n",
       "      <th>0</th>\n",
       "      <td>00001cee341fdb12</td>\n",
       "      <td>Yo bitch Ja Rule is more succesful then you'll...</td>\n",
       "      <td>1</td>\n",
       "      <td>0</td>\n",
       "      <td>0</td>\n",
       "      <td>0</td>\n",
       "      <td>0</td>\n",
       "      <td>0</td>\n",
       "    </tr>\n",
       "    <tr>\n",
       "      <th>1</th>\n",
       "      <td>0000247867823ef7</td>\n",
       "      <td>== From RfC == \\n\\n The title is fine as it is...</td>\n",
       "      <td>0</td>\n",
       "      <td>0</td>\n",
       "      <td>0</td>\n",
       "      <td>0</td>\n",
       "      <td>0</td>\n",
       "      <td>0</td>\n",
       "    </tr>\n",
       "    <tr>\n",
       "      <th>2</th>\n",
       "      <td>00013b17ad220c46</td>\n",
       "      <td>\" \\n\\n == Sources == \\n\\n * Zawe Ashton on Lap...</td>\n",
       "      <td>0</td>\n",
       "      <td>0</td>\n",
       "      <td>0</td>\n",
       "      <td>0</td>\n",
       "      <td>0</td>\n",
       "      <td>0</td>\n",
       "    </tr>\n",
       "    <tr>\n",
       "      <th>3</th>\n",
       "      <td>00017563c3f7919a</td>\n",
       "      <td>:If you have a look back at the source, the in...</td>\n",
       "      <td>0</td>\n",
       "      <td>0</td>\n",
       "      <td>0</td>\n",
       "      <td>0</td>\n",
       "      <td>0</td>\n",
       "      <td>0</td>\n",
       "    </tr>\n",
       "    <tr>\n",
       "      <th>4</th>\n",
       "      <td>00017695ad8997eb</td>\n",
       "      <td>I don't anonymously edit articles at all.</td>\n",
       "      <td>0</td>\n",
       "      <td>0</td>\n",
       "      <td>0</td>\n",
       "      <td>0</td>\n",
       "      <td>0</td>\n",
       "      <td>0</td>\n",
       "    </tr>\n",
       "  </tbody>\n",
       "</table>\n",
       "</div>"
      ],
      "text/plain": [
       "                 id                                       comment_text  toxic  \\\n",
       "0  00001cee341fdb12  Yo bitch Ja Rule is more succesful then you'll...      1   \n",
       "1  0000247867823ef7  == From RfC == \\n\\n The title is fine as it is...      0   \n",
       "2  00013b17ad220c46  \" \\n\\n == Sources == \\n\\n * Zawe Ashton on Lap...      0   \n",
       "3  00017563c3f7919a  :If you have a look back at the source, the in...      0   \n",
       "4  00017695ad8997eb          I don't anonymously edit articles at all.      0   \n",
       "\n",
       "   severe_toxic  obscene  threat  insult  identity_hate  \n",
       "0             0        0       0       0              0  \n",
       "1             0        0       0       0              0  \n",
       "2             0        0       0       0              0  \n",
       "3             0        0       0       0              0  \n",
       "4             0        0       0       0              0  "
      ]
     },
     "execution_count": 35,
     "metadata": {},
     "output_type": "execute_result"
    }
   ],
   "source": [
    "# combining final results with the original test data set\n",
    "output = pd.DataFrame(y_test, columns = train.columns[2:8], index = test.index)\n",
    "output = pd.concat([test, output], axis=1)\n",
    "\n",
    "output.head()"
   ]
  },
  {
   "cell_type": "code",
   "execution_count": 36,
   "metadata": {},
   "outputs": [
    {
     "data": {
      "text/plain": [
       "array([[0, 0, 0, ..., 0, 0, 0],\n",
       "       [0, 0, 0, ..., 0, 0, 0],\n",
       "       [0, 0, 0, ..., 0, 0, 0],\n",
       "       ..., \n",
       "       [0, 0, 0, ..., 0, 0, 0],\n",
       "       [0, 0, 0, ..., 0, 0, 0],\n",
       "       [0, 0, 0, ..., 0, 0, 0]], dtype=int64)"
      ]
     },
     "execution_count": 36,
     "metadata": {},
     "output_type": "execute_result"
    }
   ],
   "source": [
    "# verifing data\n",
    "X_train_counts.toarray()"
   ]
  },
  {
   "cell_type": "code",
   "execution_count": 37,
   "metadata": {},
   "outputs": [
    {
     "data": {
      "text/plain": [
       "array([[ 0.,  0.,  0., ...,  0.,  0.,  0.],\n",
       "       [ 0.,  0.,  0., ...,  0.,  0.,  0.],\n",
       "       [ 0.,  0.,  0., ...,  0.,  0.,  0.],\n",
       "       ..., \n",
       "       [ 0.,  0.,  0., ...,  0.,  0.,  0.],\n",
       "       [ 0.,  0.,  0., ...,  0.,  0.,  0.],\n",
       "       [ 0.,  0.,  0., ...,  0.,  0.,  0.]])"
      ]
     },
     "execution_count": 37,
     "metadata": {},
     "output_type": "execute_result"
    }
   ],
   "source": [
    "# verifing data\n",
    "X_train_tfidf.toarray()"
   ]
  },
  {
   "cell_type": "code",
   "execution_count": 38,
   "metadata": {},
   "outputs": [
    {
     "data": {
      "text/html": [
       "<div>\n",
       "<style>\n",
       "    .dataframe thead tr:only-child th {\n",
       "        text-align: right;\n",
       "    }\n",
       "\n",
       "    .dataframe thead th {\n",
       "        text-align: left;\n",
       "    }\n",
       "\n",
       "    .dataframe tbody tr th {\n",
       "        vertical-align: top;\n",
       "    }\n",
       "</style>\n",
       "<table border=\"1\" class=\"dataframe\">\n",
       "  <thead>\n",
       "    <tr style=\"text-align: right;\">\n",
       "      <th></th>\n",
       "      <th>id</th>\n",
       "      <th>comment_text</th>\n",
       "      <th>toxic</th>\n",
       "      <th>severe_toxic</th>\n",
       "      <th>obscene</th>\n",
       "      <th>threat</th>\n",
       "      <th>insult</th>\n",
       "      <th>identity_hate</th>\n",
       "    </tr>\n",
       "  </thead>\n",
       "  <tbody>\n",
       "    <tr>\n",
       "      <th>4469</th>\n",
       "      <td>07991045f2badf14</td>\n",
       "      <td>Yes, I think some of this should be included b...</td>\n",
       "      <td>0</td>\n",
       "      <td>0</td>\n",
       "      <td>0</td>\n",
       "      <td>0</td>\n",
       "      <td>0</td>\n",
       "      <td>0</td>\n",
       "    </tr>\n",
       "    <tr>\n",
       "      <th>1350</th>\n",
       "      <td>0240862671b49c37</td>\n",
       "      <td>== Asafa Powell == \\n\\n Hi there! Just want to...</td>\n",
       "      <td>0</td>\n",
       "      <td>0</td>\n",
       "      <td>0</td>\n",
       "      <td>0</td>\n",
       "      <td>0</td>\n",
       "      <td>0</td>\n",
       "    </tr>\n",
       "    <tr>\n",
       "      <th>2194</th>\n",
       "      <td>03ca9f1275738dd9</td>\n",
       "      <td>\" \\n\\n : Please do not stikethrough someone el...</td>\n",
       "      <td>0</td>\n",
       "      <td>0</td>\n",
       "      <td>0</td>\n",
       "      <td>0</td>\n",
       "      <td>0</td>\n",
       "      <td>0</td>\n",
       "    </tr>\n",
       "    <tr>\n",
       "      <th>2549</th>\n",
       "      <td>0466c8d1f0fa3f51</td>\n",
       "      <td>I have been continually harassed by C. Fred si...</td>\n",
       "      <td>0</td>\n",
       "      <td>0</td>\n",
       "      <td>0</td>\n",
       "      <td>0</td>\n",
       "      <td>0</td>\n",
       "      <td>0</td>\n",
       "    </tr>\n",
       "    <tr>\n",
       "      <th>3586</th>\n",
       "      <td>062e9deb2606308c</td>\n",
       "      <td>\" \\n ::You would bring that up. I know I'm nev...</td>\n",
       "      <td>0</td>\n",
       "      <td>0</td>\n",
       "      <td>0</td>\n",
       "      <td>0</td>\n",
       "      <td>0</td>\n",
       "      <td>0</td>\n",
       "    </tr>\n",
       "    <tr>\n",
       "      <th>4946</th>\n",
       "      <td>085a2f633bdb1432</td>\n",
       "      <td>== WOT the fuck == \\n\\n Check this out please )</td>\n",
       "      <td>1</td>\n",
       "      <td>0</td>\n",
       "      <td>1</td>\n",
       "      <td>0</td>\n",
       "      <td>1</td>\n",
       "      <td>0</td>\n",
       "    </tr>\n",
       "    <tr>\n",
       "      <th>6474</th>\n",
       "      <td>0ad8c379e037c288</td>\n",
       "      <td>LOong live Hitler, Sike mofucka</td>\n",
       "      <td>0</td>\n",
       "      <td>0</td>\n",
       "      <td>0</td>\n",
       "      <td>0</td>\n",
       "      <td>0</td>\n",
       "      <td>0</td>\n",
       "    </tr>\n",
       "    <tr>\n",
       "      <th>8300</th>\n",
       "      <td>0de931798037774a</td>\n",
       "      <td>I'm pretty sure Moody is her name for writing ...</td>\n",
       "      <td>0</td>\n",
       "      <td>0</td>\n",
       "      <td>0</td>\n",
       "      <td>0</td>\n",
       "      <td>0</td>\n",
       "      <td>0</td>\n",
       "    </tr>\n",
       "    <tr>\n",
       "      <th>7656</th>\n",
       "      <td>0cd3ddc66b54f541</td>\n",
       "      <td>:Yes, I think the Russian Wikipedia is mistake...</td>\n",
       "      <td>0</td>\n",
       "      <td>0</td>\n",
       "      <td>0</td>\n",
       "      <td>0</td>\n",
       "      <td>0</td>\n",
       "      <td>0</td>\n",
       "    </tr>\n",
       "    <tr>\n",
       "      <th>7452</th>\n",
       "      <td>0c84e9b2da607a85</td>\n",
       "      <td>== Dominique Strauss-Kahn == \\n\\n Dominique St...</td>\n",
       "      <td>0</td>\n",
       "      <td>0</td>\n",
       "      <td>0</td>\n",
       "      <td>0</td>\n",
       "      <td>0</td>\n",
       "      <td>0</td>\n",
       "    </tr>\n",
       "    <tr>\n",
       "      <th>6004</th>\n",
       "      <td>0a1877379e561a3d</td>\n",
       "      <td>:The Churchill quoation is about the use of te...</td>\n",
       "      <td>0</td>\n",
       "      <td>0</td>\n",
       "      <td>0</td>\n",
       "      <td>0</td>\n",
       "      <td>0</td>\n",
       "      <td>0</td>\n",
       "    </tr>\n",
       "    <tr>\n",
       "      <th>4365</th>\n",
       "      <td>076c9a872038c680</td>\n",
       "      <td>\" \\n *Specifically, Charles Price was also con...</td>\n",
       "      <td>0</td>\n",
       "      <td>0</td>\n",
       "      <td>0</td>\n",
       "      <td>0</td>\n",
       "      <td>0</td>\n",
       "      <td>0</td>\n",
       "    </tr>\n",
       "    <tr>\n",
       "      <th>5465</th>\n",
       "      <td>0934d4d602420a11</td>\n",
       "      <td>El día de hoy abri una cuenta en Wikipedia par...</td>\n",
       "      <td>0</td>\n",
       "      <td>0</td>\n",
       "      <td>0</td>\n",
       "      <td>0</td>\n",
       "      <td>0</td>\n",
       "      <td>0</td>\n",
       "    </tr>\n",
       "    <tr>\n",
       "      <th>1220</th>\n",
       "      <td>02025b41d75735c0</td>\n",
       "      <td>Al Gore is a jerkoff and if you read this you ...</td>\n",
       "      <td>0</td>\n",
       "      <td>0</td>\n",
       "      <td>0</td>\n",
       "      <td>0</td>\n",
       "      <td>0</td>\n",
       "      <td>0</td>\n",
       "    </tr>\n",
       "    <tr>\n",
       "      <th>1564</th>\n",
       "      <td>02a22cfde767dac7</td>\n",
       "      <td>== Some asshat keeps deleting the links to cor...</td>\n",
       "      <td>0</td>\n",
       "      <td>0</td>\n",
       "      <td>0</td>\n",
       "      <td>0</td>\n",
       "      <td>0</td>\n",
       "      <td>0</td>\n",
       "    </tr>\n",
       "    <tr>\n",
       "      <th>4996</th>\n",
       "      <td>086e5cb0920e7b2c</td>\n",
       "      <td>\" \\n\\n You do understand you are risking a blo...</td>\n",
       "      <td>0</td>\n",
       "      <td>0</td>\n",
       "      <td>0</td>\n",
       "      <td>0</td>\n",
       "      <td>0</td>\n",
       "      <td>0</td>\n",
       "    </tr>\n",
       "    <tr>\n",
       "      <th>1266</th>\n",
       "      <td>0217142aa019a907</td>\n",
       "      <td>=== Hey Shitheel === \\n Don't revert my edits,...</td>\n",
       "      <td>0</td>\n",
       "      <td>0</td>\n",
       "      <td>0</td>\n",
       "      <td>0</td>\n",
       "      <td>0</td>\n",
       "      <td>0</td>\n",
       "    </tr>\n",
       "    <tr>\n",
       "      <th>9091</th>\n",
       "      <td>0f2fb547a191caed</td>\n",
       "      <td>\" \\n\\n  \\n == Image:SmallMall.jpg listed for d...</td>\n",
       "      <td>0</td>\n",
       "      <td>0</td>\n",
       "      <td>0</td>\n",
       "      <td>0</td>\n",
       "      <td>0</td>\n",
       "      <td>0</td>\n",
       "    </tr>\n",
       "    <tr>\n",
       "      <th>7587</th>\n",
       "      <td>0cb9b1f41c549c75</td>\n",
       "      <td>== Shipwrecks and Ships merger discussion.  ==...</td>\n",
       "      <td>0</td>\n",
       "      <td>0</td>\n",
       "      <td>0</td>\n",
       "      <td>0</td>\n",
       "      <td>0</td>\n",
       "      <td>0</td>\n",
       "    </tr>\n",
       "    <tr>\n",
       "      <th>2893</th>\n",
       "      <td>050144ce6438574d</td>\n",
       "      <td>==Image copyright problem with Image:ADF Comma...</td>\n",
       "      <td>0</td>\n",
       "      <td>0</td>\n",
       "      <td>0</td>\n",
       "      <td>0</td>\n",
       "      <td>0</td>\n",
       "      <td>0</td>\n",
       "    </tr>\n",
       "  </tbody>\n",
       "</table>\n",
       "</div>"
      ],
      "text/plain": [
       "                    id                                       comment_text  \\\n",
       "4469  07991045f2badf14  Yes, I think some of this should be included b...   \n",
       "1350  0240862671b49c37  == Asafa Powell == \\n\\n Hi there! Just want to...   \n",
       "2194  03ca9f1275738dd9  \" \\n\\n : Please do not stikethrough someone el...   \n",
       "2549  0466c8d1f0fa3f51  I have been continually harassed by C. Fred si...   \n",
       "3586  062e9deb2606308c  \" \\n ::You would bring that up. I know I'm nev...   \n",
       "4946  085a2f633bdb1432    == WOT the fuck == \\n\\n Check this out please )   \n",
       "6474  0ad8c379e037c288                    LOong live Hitler, Sike mofucka   \n",
       "8300  0de931798037774a  I'm pretty sure Moody is her name for writing ...   \n",
       "7656  0cd3ddc66b54f541  :Yes, I think the Russian Wikipedia is mistake...   \n",
       "7452  0c84e9b2da607a85  == Dominique Strauss-Kahn == \\n\\n Dominique St...   \n",
       "6004  0a1877379e561a3d  :The Churchill quoation is about the use of te...   \n",
       "4365  076c9a872038c680  \" \\n *Specifically, Charles Price was also con...   \n",
       "5465  0934d4d602420a11  El día de hoy abri una cuenta en Wikipedia par...   \n",
       "1220  02025b41d75735c0  Al Gore is a jerkoff and if you read this you ...   \n",
       "1564  02a22cfde767dac7  == Some asshat keeps deleting the links to cor...   \n",
       "4996  086e5cb0920e7b2c  \" \\n\\n You do understand you are risking a blo...   \n",
       "1266  0217142aa019a907  === Hey Shitheel === \\n Don't revert my edits,...   \n",
       "9091  0f2fb547a191caed  \" \\n\\n  \\n == Image:SmallMall.jpg listed for d...   \n",
       "7587  0cb9b1f41c549c75  == Shipwrecks and Ships merger discussion.  ==...   \n",
       "2893  050144ce6438574d  ==Image copyright problem with Image:ADF Comma...   \n",
       "\n",
       "      toxic  severe_toxic  obscene  threat  insult  identity_hate  \n",
       "4469      0             0        0       0       0              0  \n",
       "1350      0             0        0       0       0              0  \n",
       "2194      0             0        0       0       0              0  \n",
       "2549      0             0        0       0       0              0  \n",
       "3586      0             0        0       0       0              0  \n",
       "4946      1             0        1       0       1              0  \n",
       "6474      0             0        0       0       0              0  \n",
       "8300      0             0        0       0       0              0  \n",
       "7656      0             0        0       0       0              0  \n",
       "7452      0             0        0       0       0              0  \n",
       "6004      0             0        0       0       0              0  \n",
       "4365      0             0        0       0       0              0  \n",
       "5465      0             0        0       0       0              0  \n",
       "1220      0             0        0       0       0              0  \n",
       "1564      0             0        0       0       0              0  \n",
       "4996      0             0        0       0       0              0  \n",
       "1266      0             0        0       0       0              0  \n",
       "9091      0             0        0       0       0              0  \n",
       "7587      0             0        0       0       0              0  \n",
       "2893      0             0        0       0       0              0  "
      ]
     },
     "execution_count": 38,
     "metadata": {},
     "output_type": "execute_result"
    }
   ],
   "source": [
    "# verifing data\n",
    "output.sample(20)"
   ]
  },
  {
   "cell_type": "code",
   "execution_count": 39,
   "metadata": {},
   "outputs": [
    {
     "data": {
      "text/plain": [
       "id                                                09f4b7014a35f365\n",
       "comment_text     ==Gay Cowboys== \\n\\n My thoughts about this: G...\n",
       "toxic                                                            0\n",
       "severe_toxic                                                     0\n",
       "obscene                                                          0\n",
       "threat                                                           0\n",
       "insult                                                           0\n",
       "identity_hate                                                    0\n",
       "Name: 5902, dtype: object"
      ]
     },
     "execution_count": 39,
     "metadata": {},
     "output_type": "execute_result"
    },
    {
     "data": {
      "text/plain": [
       "'==Gay Cowboys== \\n\\n My thoughts about this: Gay cowboys humping on bareback mountain. There I said. I feel better now. Now you all can criticise me as homophobic and vandalise my talk page. I think ill say it again...GAY COWBOYS...GAY COWBOYS...GAY COWBOYS...GAY COWBOYS...GAY COWBOYS...GAY COWBOYS...GAY COWBOYS...GAY COWBOYS...GAY COWBOYS...GAY COWBOYS...GAY COWBOYS...GAY COWBOYS...GAY COWBOYS...GAY COWBOYS...GAY COWBOYS...GAY COWBOYS...GAY COWBOYS...GAY COWBOYS...GAY COWBOYS...GAY COWBOYS...GAY COWBOYS...GAY COWBOYS...GAY COWBOYS...GAY COWBOYS...GAY COWBOYS...GAY COWBOYS...GAY COWBOYS...GAY COWBOYS...GAY COWBOYS...GAY COWBOYS...GAY COWBOYS...GAY COWBOYS...'"
      ]
     },
     "execution_count": 39,
     "metadata": {},
     "output_type": "execute_result"
    }
   ],
   "source": [
    "# verifing select random case, as per index from above code chunk\n",
    "output.iloc[5902,:]\n",
    "output.comment_text[5902]"
   ]
  },
  {
   "cell_type": "code",
   "execution_count": 40,
   "metadata": {},
   "outputs": [
    {
     "data": {
      "text/html": [
       "<div>\n",
       "<style>\n",
       "    .dataframe thead tr:only-child th {\n",
       "        text-align: right;\n",
       "    }\n",
       "\n",
       "    .dataframe thead th {\n",
       "        text-align: left;\n",
       "    }\n",
       "\n",
       "    .dataframe tbody tr th {\n",
       "        vertical-align: top;\n",
       "    }\n",
       "</style>\n",
       "<table border=\"1\" class=\"dataframe\">\n",
       "  <thead>\n",
       "    <tr style=\"text-align: right;\">\n",
       "      <th></th>\n",
       "      <th>toxic</th>\n",
       "      <th>severe_toxic</th>\n",
       "      <th>obscene</th>\n",
       "      <th>threat</th>\n",
       "      <th>insult</th>\n",
       "      <th>identity_hate</th>\n",
       "    </tr>\n",
       "  </thead>\n",
       "  <tbody>\n",
       "    <tr>\n",
       "      <th>3670</th>\n",
       "      <td>0</td>\n",
       "      <td>0</td>\n",
       "      <td>0</td>\n",
       "      <td>0</td>\n",
       "      <td>0</td>\n",
       "      <td>0</td>\n",
       "    </tr>\n",
       "    <tr>\n",
       "      <th>3415</th>\n",
       "      <td>0</td>\n",
       "      <td>0</td>\n",
       "      <td>0</td>\n",
       "      <td>0</td>\n",
       "      <td>0</td>\n",
       "      <td>0</td>\n",
       "    </tr>\n",
       "    <tr>\n",
       "      <th>1301</th>\n",
       "      <td>0</td>\n",
       "      <td>0</td>\n",
       "      <td>0</td>\n",
       "      <td>0</td>\n",
       "      <td>0</td>\n",
       "      <td>0</td>\n",
       "    </tr>\n",
       "    <tr>\n",
       "      <th>1355</th>\n",
       "      <td>1</td>\n",
       "      <td>0</td>\n",
       "      <td>0</td>\n",
       "      <td>0</td>\n",
       "      <td>1</td>\n",
       "      <td>0</td>\n",
       "    </tr>\n",
       "    <tr>\n",
       "      <th>7303</th>\n",
       "      <td>0</td>\n",
       "      <td>0</td>\n",
       "      <td>0</td>\n",
       "      <td>0</td>\n",
       "      <td>0</td>\n",
       "      <td>0</td>\n",
       "    </tr>\n",
       "  </tbody>\n",
       "</table>\n",
       "</div>"
      ],
      "text/plain": [
       "      toxic  severe_toxic  obscene  threat  insult  identity_hate\n",
       "3670      0             0        0       0       0              0\n",
       "3415      0             0        0       0       0              0\n",
       "1301      0             0        0       0       0              0\n",
       "1355      1             0        0       0       1              0\n",
       "7303      0             0        0       0       0              0"
      ]
     },
     "execution_count": 40,
     "metadata": {},
     "output_type": "execute_result"
    }
   ],
   "source": [
    "# verifing data\n",
    "y_train.head()"
   ]
  },
  {
   "cell_type": "code",
   "execution_count": 41,
   "metadata": {},
   "outputs": [
    {
     "data": {
      "text/plain": [
       "toxic            679\n",
       "severe_toxic      73\n",
       "obscene          354\n",
       "threat            21\n",
       "insult           345\n",
       "identity_hate     66\n",
       "dtype: int64"
      ]
     },
     "execution_count": 41,
     "metadata": {},
     "output_type": "execute_result"
    },
    {
     "data": {
      "text/plain": [
       "toxic            292\n",
       "severe_toxic      28\n",
       "obscene          173\n",
       "threat            12\n",
       "insult           149\n",
       "identity_hate     18\n",
       "dtype: int64"
      ]
     },
     "execution_count": 41,
     "metadata": {},
     "output_type": "execute_result"
    },
    {
     "data": {
      "text/plain": [
       "toxic            592\n",
       "severe_toxic       0\n",
       "obscene          455\n",
       "threat             0\n",
       "insult           304\n",
       "identity_hate      0\n",
       "dtype: int64"
      ]
     },
     "execution_count": 41,
     "metadata": {},
     "output_type": "execute_result"
    }
   ],
   "source": [
    "# quick summary for training, validation and test set respectively\n",
    "# this shows the balance in results using SVM model in comparison to training data\n",
    "y_train.sum(axis=0)\n",
    "y_val.sum(axis=0)\n",
    "output.iloc[:,2:8].sum(axis=0)"
   ]
  },
  {
   "cell_type": "code",
   "execution_count": 45,
   "metadata": {},
   "outputs": [
    {
     "name": "stdout",
     "output_type": "stream",
     "text": [
      "             precision    recall  f1-score   support\n",
      "\n",
      "   positive       0.90      1.00      0.95      2708\n",
      "   negative       0.00      0.00      0.00       292\n",
      "\n",
      "avg / total       0.81      0.90      0.86      3000\n",
      "\n",
      "             precision    recall  f1-score   support\n",
      "\n",
      "   positive       0.94      0.89      0.91      2708\n",
      "   negative       0.30      0.44      0.35       292\n",
      "\n",
      "avg / total       0.87      0.84      0.86      3000\n",
      "\n",
      "             precision    recall  f1-score   support\n",
      "\n",
      "   positive       0.90      1.00      0.95      2708\n",
      "   negative       1.00      0.02      0.04       292\n",
      "\n",
      "avg / total       0.91      0.90      0.86      3000\n",
      "\n",
      "             precision    recall  f1-score   support\n",
      "\n",
      "   positive       0.90      1.00      0.95      2708\n",
      "   negative       0.00      0.00      0.00       292\n",
      "\n",
      "avg / total       0.81      0.90      0.86      3000\n",
      "\n"
     ]
    },
    {
     "name": "stderr",
     "output_type": "stream",
     "text": [
      "C:\\Users\\sonuc\\Anaconda3\\lib\\site-packages\\sklearn\\metrics\\classification.py:1135: UndefinedMetricWarning: Precision and F-score are ill-defined and being set to 0.0 in labels with no predicted samples.\n",
      "  'precision', 'predicted', average, warn_for)\n"
     ]
    }
   ],
   "source": [
    "# precision recall f1-score report\n",
    "print(metrics.classification_report(y_val.toxic, result_val['Multinomial_NB'][:,1], target_names = [\"positive\", \"negative\"]))\n",
    "print(metrics.classification_report(y_val.toxic, result_val['Bernoulli_NB'][:,1], target_names = [\"positive\", \"negative\"]))\n",
    "print(metrics.classification_report(y_val.toxic, result_val['Logistic_Regression'][:,1], target_names = [\"positive\", \"negative\"]))\n",
    "print(metrics.classification_report(y_val.toxic, result_val['SVM_Classifier'][:,1], target_names = [\"positive\", \"negative\"]))"
   ]
  },
  {
   "cell_type": "code",
   "execution_count": 46,
   "metadata": {},
   "outputs": [],
   "source": [
    "# creating a object with final output of predictions on the test data set\n",
    "final_output = output.drop(['comment_text'], axis = 1, inplace = False)"
   ]
  },
  {
   "cell_type": "code",
   "execution_count": 48,
   "metadata": {},
   "outputs": [],
   "source": [
    "# writing the output object to a csv file\n",
    "final_output.to_csv('submission_project.csv', index=False)"
   ]
  },
  {
   "cell_type": "code",
   "execution_count": null,
   "metadata": {},
   "outputs": [],
   "source": [
    "# download additional modules\n",
    "# !pip install matplotlib-venn\n",
    "# !pip install wordcloud\n",
    "# !pip install PIL\n",
    "\n",
    "# importing libraries for additional visualizations\n",
    "from wordcloud import WordCloud, STOPWORDS\n",
    "import matplotlib as mpl\n",
    "import matplotlib.pyplot as plt\n",
    "%matplotlib inline\n",
    "from subprocess import check_output\n",
    "from PIL import Image\n",
    "import codecs\n",
    "from os import path"
   ]
  },
  {
   "cell_type": "code",
   "execution_count": null,
   "metadata": {},
   "outputs": [],
   "source": [
    "# wordcloud for toxic and clean comments\n",
    "mpl.rcParams['font.size']=12                #10 \n",
    "mpl.rcParams['savefig.dpi']=3000             #72 \n",
    "mpl.rcParams['figure.subplot.bottom']=.1 \n",
    "\n",
    "stopwords = set(STOPWORDS)\n",
    "\n",
    "#toxic\n",
    "wc1 = WordCloud(\n",
    "                          background_color='black',\n",
    "                          stopwords=stopwords,\n",
    "                          max_words=100,\n",
    "                          max_font_size=40, \n",
    "                          random_state=42\n",
    "                         ).generate(str(train['comment_text'][train['clean']==False]))\n",
    "fig = plt.figure(figsize=(10,10))\n",
    "plt.imshow(wc1)\n",
    "plt.axis('off')\n",
    "plt.title(\"Words frequented in Toxic Comments\", fontsize=15)\n",
    "plt.imshow(wc1.recolor(colormap= 'hot' , random_state=42), alpha=0.98)\n",
    "plt.show()\n",
    "fig.savefig(\"toxic_word.png\", dpi=3000)\n",
    "\n",
    "#clean\n",
    "wc2 = WordCloud(\n",
    "                          background_color='white',\n",
    "                          stopwords=stopwords,\n",
    "                          max_words=100,\n",
    "                          max_font_size=40, \n",
    "                          random_state=42\n",
    "                         ).generate(str(train['comment_text'][train['clean']==True]))\n",
    "fig = plt.figure(figsize=(10,10))\n",
    "plt.imshow(wc2)\n",
    "plt.axis('off')\n",
    "plt.title(\"Words frequented in Clean Comments\", fontsize=15)\n",
    "\n",
    "plt.show()\n",
    "fig.savefig(\"clean_word.png\", dpi=3000)"
   ]
  },
  {
   "cell_type": "code",
   "execution_count": null,
   "metadata": {},
   "outputs": [],
   "source": [
    "# wordcloud for testing dataset\n",
    "wc3 = WordCloud(\n",
    "                          background_color='white',\n",
    "                          stopwords=stopwords,\n",
    "                          max_words=100,\n",
    "                          max_font_size=40, \n",
    "                          random_state=42\n",
    "                         ).generate(str(test['comment_text']))\n",
    "fig = plt.figure(figsize=(10,10))\n",
    "plt.imshow(wc3)\n",
    "plt.axis('off')\n",
    "plt.title(\"Words frequented in test Comments\", fontsize=15)\n",
    "\n",
    "plt.show()\n",
    "fig.savefig(\"test_word.png\", dpi=3000)"
   ]
  },
  {
   "cell_type": "code",
   "execution_count": null,
   "metadata": {},
   "outputs": [],
   "source": [
    "# check unique word\n",
    "train['count_unique_word']=train[\"comment_text\"].apply(lambda x: len(set(str(x).split())))\n",
    "train['count_word']=train[\"comment_text\"].apply(lambda x: len(str(x).split()))\n",
    "train['word_unique_percent']=train['count_unique_word']*100/train['count_word']\n",
    "spammers=train[train['word_unique_percent']<30]\n",
    "\n",
    "plt.figure(figsize=(16,12))\n",
    "# gridspec.GridSpec(2,1)\n",
    "\n",
    "\n",
    "plt.subplot2grid((2,1),(0,0))\n",
    "plt.title(\"Percentage of unique words of total words in comment\")\n",
    "#sns.boxplot(x='clean', y='word_unique_percent', data=train_feats)\n",
    "ax=sns.kdeplot(train[train.toxic == 1].word_unique_percent, label=\"Bad\",shade=True,color='r')\n",
    "ax=sns.kdeplot(train[train.severe_toxic == 1].word_unique_percent, label=\"Bad\",shade=True,color='b')\n",
    "\n",
    "ax=sns.kdeplot(train[train.clean == 1].word_unique_percent, label=\"Clean\")\n",
    "plt.legend()\n",
    "plt.xlabel('Percent unique words', fontsize=12)\n",
    "\n",
    "x=spammers.iloc[:,2:9].sum()\n",
    "plt.subplot2grid((2,1),(1,0),colspan=2)\n",
    "plt.title(\"Count of comments with low(<30%) unique words\",fontsize=15)\n",
    "ax=sns.barplot(x=x.index, y=x.values,color='crimson')\n",
    "\n",
    "# adding the text labels\n",
    "rects = ax.patches\n",
    "labels = x.values\n",
    "for rect, label in zip(rects, labels):\n",
    "    height = rect.get_height()\n",
    "    ax.text(rect.get_x() + rect.get_width()/2, height + 5, label, ha='center', va='bottom')\n",
    "\n",
    "plt.xlabel('Threat class', fontsize=12)\n",
    "plt.ylabel('Number of comments', fontsize=12)\n",
    "plt.show()"
   ]
  },
  {
   "cell_type": "code",
   "execution_count": null,
   "metadata": {},
   "outputs": [],
   "source": [
    "# amount of punctuation in each comment category\n",
    "train['punc_len'] = train[\"comment_text\"].apply(lambda x: len([c for c in str(x) if c in string.punctuation]))\n",
    "c2 = train.loc[train['clean']==1]['punc_len'].median()\n",
    "s2 = train.loc[train['severe_toxic']==1]['punc_len'].median()\n",
    "t2 = train.loc[train['toxic']==1]['punc_len'].median()\n",
    "ob2 = train.loc[train['obscene']==1]['punc_len'].median()\n",
    "th2 = train.loc[train['threat']==1]['punc_len'].median()\n",
    "ins2 = train.loc[train['insult']==1]['punc_len'].median()\n",
    "ih2 = train.loc[train['identity_hate']==1]['punc_len'].median()\n",
    "\n",
    "cat2 = [c2,s2,t2,ob2,th2,ins2,ih2]\n",
    "\n",
    "\n",
    "labels=['clean','severe','toxic','obscene','threat','insult','identity-hate']\n",
    "order_of_labels = range(len(cat2))\n",
    "\n",
    "plt.figure(figsize=(12,4))\n",
    "plt.plot(cat2, 'r--', marker='o')\n",
    "plt.xticks(order_of_labels, labels)\n",
    "plt.title('Average amount of punctuation in each comment category')\n",
    "plt.show()"
   ]
  },
  {
   "cell_type": "code",
   "execution_count": null,
   "metadata": {},
   "outputs": [],
   "source": [
    "# amount of Singular Personal Pronoun\n",
    "train['len_I'] = train['comment_text'].apply(lambda x: len(re.findall(r\"(\\s+-?I\\s)|(\\s[iI]'m\\s)|(\\si\\s)|(\\s[iI]'d\\s)|((\\s[iI]'ve\\s)|((\\s[iI]'ll\\s)))\", str(x))))\n",
    "CL = train.loc[train['clean']==1]['len_I'].mean()\n",
    "SV = train.loc[train['severe_toxic']==1]['len_I'].mean()\n",
    "TO = train.loc[train['toxic']==1]['len_I'].mean()\n",
    "INS = train.loc[train['insult']==1]['len_I'].mean()\n",
    "TH = train.loc[train['threat']==1]['len_I'].mean()\n",
    "OB = train.loc[train['obscene']==1]['len_I'].mean()\n",
    "IH = train.loc[train['identity_hate']==1]['len_I'].mean()\n",
    "c_list = [CL, SV, TO, INS, TH, OB, IH]\n",
    "\n",
    "labels=['clean','severe','toxic','insult','threat','obscence','identity-hate']\n",
    "order_of_labels = range(len(c_list))\n",
    "\n",
    "plt.figure(figsize=(12,4))\n",
    "plt.bar(x=order_of_labels ,height=c_list, color='blue')\n",
    "plt.xticks(order_of_labels, labels, rotation=90)\n",
    "plt.title('Average amount of personal pronoun in each comment category')\n",
    "plt.show()"
   ]
  },
  {
   "cell_type": "code",
   "execution_count": null,
   "metadata": {},
   "outputs": [],
   "source": [
    "# amount of noun, verb, adj\n",
    "from nltk import pos_tag\n",
    "def tag_part_of_speech(text):\n",
    "    text_splited = text.split(' ')\n",
    "    text_splited = [''.join(c for c in s if c not in string.punctuation) for s in text_splited]\n",
    "    text_splited = [s for s in text_splited if s]\n",
    "    pos_list = pos_tag(text_splited)\n",
    "    noun_count = len([w for w in pos_list if w[1] in ('NN','NNP','NNPS','NNS')])\n",
    "    adjective_count = len([w for w in pos_list if w[1] in ('JJ','JJR','JJS')])\n",
    "    verb_count = len([w for w in pos_list if w[1] in ('VB','VBD','VBG','VBN','VBP','VBZ')])\n",
    "    return[noun_count, adjective_count, verb_count]\n",
    "\n",
    "\n",
    "train['nouns'], train['adjectives'], train['verbs'] = zip(*train['comment_text'].apply(\n",
    "    lambda comment: tag_part_of_speech(comment)))\n",
    "train['nouns_vs_length'] = train['nouns'] / train['total_length']\n",
    "train['adjectives_vs_length'] = train['adjectives'] / train['total_length']\n",
    "train['verbs_vs_length'] = train['verbs'] / train['total_length']\n",
    "\n",
    "CL = train.loc[train['clean']==1]['nouns_vs_length'].mean()\n",
    "SV = train.loc[train['severe_toxic']==1]['nouns_vs_length'].mean()\n",
    "TO = train.loc[train['toxic']==1]['nouns_vs_length'].mean()\n",
    "INS = train.loc[train['insult']==1]['nouns_vs_length'].mean()\n",
    "TH = train.loc[train['threat']==1]['nouns_vs_length'].mean()\n",
    "OB = train.loc[train['obscene']==1]['nouns_vs_length'].mean()\n",
    "IH = train.loc[train['identity_hate']==1]['nouns_vs_length'].mean()\n",
    "c_list = [CL, SV, TO, INS, TH, OB, IH]\n",
    "\n",
    "labels=['clean','severe','toxic','insult','threat','obscence','identity-hate']\n",
    "order_of_labels = range(len(c_list))\n",
    "\n",
    "plt.figure(figsize=(12,4))\n",
    "plt.bar(x=order_of_labels ,height=c_list, color='blue')\n",
    "plt.xticks(order_of_labels, labels, rotation=90)\n",
    "plt.title('Average ratio of nouns in each comment category')\n",
    "plt.show()"
   ]
  },
  {
   "cell_type": "code",
   "execution_count": null,
   "metadata": {},
   "outputs": [],
   "source": [
    "CL = train.loc[train['clean']==1]['adjectives_vs_length'].mean()\n",
    "SV = train.loc[train['severe_toxic']==1]['adjectives_vs_length'].mean()\n",
    "TO = train.loc[train['toxic']==1]['adjectives_vs_length'].mean()\n",
    "INS = train.loc[train['insult']==1]['adjectives_vs_length'].mean()\n",
    "TH = train.loc[train['threat']==1]['adjectives_vs_length'].mean()\n",
    "OB = train.loc[train['obscene']==1]['adjectives_vs_length'].mean()\n",
    "IH = train.loc[train['identity_hate']==1]['adjectives_vs_length'].mean()\n",
    "c_list = [CL, SV, TO, INS, TH, OB, IH]\n",
    "\n",
    "labels=['clean','severe','toxic','insult','threat','obscence','identity-hate']\n",
    "order_of_labels = range(len(c_list))\n",
    "\n",
    "plt.figure(figsize=(12,4))\n",
    "plt.bar(x=order_of_labels ,height=c_list, color='yellow')\n",
    "plt.xticks(order_of_labels, labels, rotation=90)\n",
    "plt.title('Average ratio of adjectives in each comment category')\n",
    "plt.show()"
   ]
  },
  {
   "cell_type": "code",
   "execution_count": null,
   "metadata": {},
   "outputs": [],
   "source": [
    "CL = train.loc[train['clean']==1]['verbs_vs_length'].mean()\n",
    "SV = train.loc[train['severe_toxic']==1]['verbs_vs_length'].mean()\n",
    "TO = train.loc[train['toxic']==1]['verbs_vs_length'].mean()\n",
    "INS = train.loc[train['insult']==1]['verbs_vs_length'].mean()\n",
    "TH = train.loc[train['threat']==1]['verbs_vs_length'].mean()\n",
    "OB = train.loc[train['obscene']==1]['verbs_vs_length'].mean()\n",
    "IH = train.loc[train['identity_hate']==1]['verbs_vs_length'].mean()\n",
    "c_list = [CL, SV, TO, INS, TH, OB, IH]\n",
    "\n",
    "labels=['clean','severe','toxic','insult','threat','obscence','identity-hate']\n",
    "order_of_labels = range(len(c_list))\n",
    "\n",
    "plt.figure(figsize=(12,4))\n",
    "plt.bar(x=order_of_labels ,height=c_list, color='green')\n",
    "plt.xticks(order_of_labels, labels, rotation=90)\n",
    "plt.title('Average ratio of verbs in each comment category')\n",
    "plt.show()"
   ]
  },
  {
   "cell_type": "code",
   "execution_count": null,
   "metadata": {},
   "outputs": [],
   "source": [
    "# capitals vs length\n",
    "train['total_length'] = train['comment_text'].apply(len)\n",
    "train['capitals'] = train['comment_text'].apply(lambda comment: sum(1 for c in comment if c.isupper()))\n",
    "train['capitals_vs_length'] = train['capitals'] / train['total_length']\n",
    "\n",
    "CL = train.loc[train['clean']==1]['capitals_vs_length'].mean()\n",
    "SV = train.loc[train['severe_toxic']==1]['capitals_vs_length'].mean()\n",
    "TO = train.loc[train['toxic']==1]['capitals_vs_length'].mean()\n",
    "INS = train.loc[train['insult']==1]['capitals_vs_length'].mean()\n",
    "TH = train.loc[train['threat']==1]['capitals_vs_length'].mean()\n",
    "OB = train.loc[train['obscene']==1]['capitals_vs_length'].mean()\n",
    "IH = train.loc[train['identity_hate']==1]['capitals_vs_length'].mean()\n",
    "c_list = [CL, SV, TO, INS, TH, OB, IH]\n",
    "\n",
    "labels=['clean','severe','toxic','insult','threat','obscence','identity-hate']\n",
    "order_of_labels = range(len(c_list))\n",
    "\n",
    "plt.figure(figsize=(12,4))\n",
    "plt.bar(x=order_of_labels ,height=c_list, color='blue')\n",
    "plt.xticks(order_of_labels, labels, rotation=90)\n",
    "plt.title('Average capitals per length in each comment category')\n",
    "plt.show()"
   ]
  }
 ],
 "metadata": {
  "kernelspec": {
   "display_name": "Python 3",
   "language": "python",
   "name": "python3"
  },
  "language_info": {
   "codemirror_mode": {
    "name": "ipython",
    "version": 3
   },
   "file_extension": ".py",
   "mimetype": "text/x-python",
   "name": "python",
   "nbconvert_exporter": "python",
   "pygments_lexer": "ipython3",
   "version": "3.6.4"
  }
 },
 "nbformat": 4,
 "nbformat_minor": 2
}
